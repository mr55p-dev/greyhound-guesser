{
 "cells": [
  {
   "cell_type": "code",
   "execution_count": 185,
   "id": "a4920dd9-d88c-4b40-8104-88a48bff170f",
   "metadata": {},
   "outputs": [],
   "source": [
    "from pathlib import Path\n",
    "import torch\n",
    "import numpy as np\n",
    "import pandas as pd\n",
    "import sys\n",
    "import os\n",
    "module_path = os.path.abspath(os.path.join('..'))\n",
    "if module_path not in sys.path:\n",
    "    sys.path.append(module_path)\n",
    "from src.model import Network\n",
    "from src.utils import get_device\n",
    "from src.dataset import GreyhoundDataset\n",
    "import math"
   ]
  },
  {
   "cell_type": "code",
   "execution_count": 3,
   "id": "411a92bb-dd9b-4cd9-9970-1d07acc57aec",
   "metadata": {},
   "outputs": [],
   "source": [
    "N = 1000\n",
    "batch_size = 32"
   ]
  },
  {
   "cell_type": "code",
   "execution_count": 71,
   "id": "a4bf9367-711d-4bba-98e4-5e5ddbbe1fc0",
   "metadata": {},
   "outputs": [],
   "source": [
    "def gen_test_data():\n",
    "    odds_vals = [1, 2, 4, 8]\n",
    "    dist_vals = [380, 560, 720]\n",
    "    out = np.zeros((N, 19))\n",
    "    out[:, 0] = 380 / 1000\n",
    "    for i in range(6):\n",
    "        ni = 3 * i\n",
    "        out[:, 1 + ni] = 1 / np.random.choice(odds_vals, size=(N))\n",
    "        out[:, 2 + ni] = np.random.choice(dist_vals, size=(N)) / 1000\n",
    "        out[:, 3 + ni] = np.random.normal(loc=0.5, scale=0.25, size=(N)).clip(0, 1)\n",
    "    return out"
   ]
  },
  {
   "cell_type": "code",
   "execution_count": 191,
   "id": "dca1f72c-119a-4a33-a568-047b1d8ba617",
   "metadata": {},
   "outputs": [],
   "source": [
    "def load_test_data():\n",
    "    os.chdir(\"..\")\n",
    "    dataset = GreyhoundDataset(device=get_device())\n",
    "    os.chdir(\"eda\")\n",
    "    return dataset"
   ]
  },
  {
   "cell_type": "code",
   "execution_count": 192,
   "id": "41784d28-4250-4854-8f2d-a22815e4f7df",
   "metadata": {},
   "outputs": [],
   "source": [
    "data, labels = load_test_data()[:N]\n",
    "data = data.cpu().numpy()\n",
    "labels = labels.cpu().numpy()"
   ]
  },
  {
   "cell_type": "code",
   "execution_count": 102,
   "id": "8a1e86a4-862e-46bb-9088-efbe21b1bc6f",
   "metadata": {},
   "outputs": [],
   "source": [
    "data = gen_test_data()"
   ]
  },
  {
   "cell_type": "code",
   "execution_count": 122,
   "id": "2e981f91-a40a-4825-8204-32473f79317f",
   "metadata": {},
   "outputs": [],
   "source": [
    "device = get_device()\n",
    "model_weights = \"../models/gg-2023-11-10_01-33.pt\""
   ]
  },
  {
   "cell_type": "code",
   "execution_count": 123,
   "id": "0a03480a-6cb1-4d3d-b9d0-620d4ddd51a4",
   "metadata": {},
   "outputs": [
    {
     "data": {
      "text/plain": [
       "Network(\n",
       "  (_layers): Sequential(\n",
       "    (0): Linear(in_features=19, out_features=256, bias=True)\n",
       "    (1): ReLU()\n",
       "    (2): Linear(in_features=256, out_features=128, bias=True)\n",
       "    (3): ReLU()\n",
       "    (4): Linear(in_features=128, out_features=32, bias=True)\n",
       "    (5): ReLU()\n",
       "    (6): Linear(in_features=32, out_features=6, bias=True)\n",
       "    (7): Softmax(dim=1)\n",
       "  )\n",
       ")"
      ]
     },
     "execution_count": 123,
     "metadata": {},
     "output_type": "execute_result"
    }
   ],
   "source": [
    "model = Network()\n",
    "model.load_state_dict(torch.load(model_weights, map_location=device))\n",
    "model.to(device)"
   ]
  },
  {
   "cell_type": "code",
   "execution_count": 124,
   "id": "c10a34b1-b395-4c4b-a369-7e596cafd785",
   "metadata": {},
   "outputs": [],
   "source": [
    "predictions = np.zeros((N, 6))\n",
    "predictions_norm = np.zeros(N, dtype=np.int64)"
   ]
  },
  {
   "cell_type": "code",
   "execution_count": 125,
   "id": "eae4bca5-f816-4442-8852-80ac0bdaf214",
   "metadata": {},
   "outputs": [],
   "source": [
    "for batch in range(N // batch_size):\n",
    "    offset = batch * batch_size\n",
    "    batch_data = torch.tensor(data[offset : offset + batch_size, :], device=device, dtype=torch.float32)\n",
    "    predictions[offset : offset + batch_size, :] = model.forward(batch_data).detach().cpu().numpy()"
   ]
  },
  {
   "cell_type": "code",
   "execution_count": 126,
   "id": "25dacfc6-aece-4ddd-a31a-91e8938c6244",
   "metadata": {},
   "outputs": [],
   "source": [
    "traps = np.argmax(predictions, 1, predictions_norm)"
   ]
  },
  {
   "cell_type": "code",
   "execution_count": 132,
   "id": "65eb802a-4108-4ad5-8394-1f874211e808",
   "metadata": {},
   "outputs": [],
   "source": [
    "to_concat = [data, traps.reshape(-1, 1)]\n",
    "if \"labels\" in locals():\n",
    "    to_concat.append(labels)\n",
    "predictions = np.concatenate(to_concat, axis=1)"
   ]
  },
  {
   "cell_type": "code",
   "execution_count": 133,
   "id": "0af02cb3-4c13-41dc-9d44-0ecb2c733cc3",
   "metadata": {},
   "outputs": [
    {
     "data": {
      "text/plain": [
       "array([[0.38      , 0.25      , 0.47143   , 0.68599999, 0.16666667,\n",
       "        0.42570999, 0.15800001, 0.16666667, 0.47143   , 0.57200003,\n",
       "        0.36363637, 0.51713997, 0.542     , 0.14285715, 0.38      ,\n",
       "        0.428     , 0.2       , 0.38      , 0.514     , 0.        ,\n",
       "        0.        , 0.        , 0.        , 0.        , 0.        ,\n",
       "        1.        ],\n",
       "       [0.38      , 0.25      , 0.38      , 0.60000002, 0.44444445,\n",
       "        0.38      , 0.57200003, 0.2       , 0.47143   , 0.514     ,\n",
       "        0.16666667, 0.38      , 0.428     , 0.14285715, 0.38      ,\n",
       "        0.458     , 0.07692308, 0.38      , 0.62800002, 1.        ,\n",
       "        0.        , 0.        , 0.        , 0.        , 0.        ,\n",
       "        1.        ],\n",
       "       [0.38      , 0.2857143 , 0.38      , 0.40000001, 0.14285715,\n",
       "        0.38      , 0.28600001, 0.25      , 0.49428999, 0.486     ,\n",
       "        0.16666667, 0.38      , 0.228     , 0.14285715, 0.38      ,\n",
       "        0.15800001, 0.30769232, 0.38      , 0.486     , 4.        ,\n",
       "        0.        , 0.        , 0.        , 1.        , 0.        ,\n",
       "        0.        ],\n",
       "       [0.38      , 0.18181819, 0.38      , 0.64600003, 0.30769232,\n",
       "        0.38      , 0.74199998, 0.14285715, 0.38      , 0.60000002,\n",
       "        0.2       , 0.38      , 0.60000002, 0.2857143 , 0.38286   ,\n",
       "        0.60000002, 0.16666667, 0.38      , 0.428     , 3.        ,\n",
       "        0.        , 0.        , 0.        , 1.        , 0.        ,\n",
       "        0.        ],\n",
       "       [0.38      , 0.5       , 0.38      , 0.77200001, 0.16666667,\n",
       "        0.38071001, 0.44400001, 0.16666667, 0.40070999, 0.14      ,\n",
       "        0.09090909, 0.38      , 0.60000002, 0.2857143 , 0.38      ,\n",
       "        0.63200003, 0.14285715, 0.38      , 0.486     , 0.        ,\n",
       "        0.        , 0.        , 1.        , 0.        , 0.        ,\n",
       "        0.        ]])"
      ]
     },
     "execution_count": 133,
     "metadata": {},
     "output_type": "execute_result"
    }
   ],
   "source": [
    "predictions[np.random.choice(range(predictions.shape[0]), size=(5)), :]"
   ]
  },
  {
   "cell_type": "code",
   "execution_count": 160,
   "id": "f6b6a551-8394-4da4-af0c-a1f55b1b71d5",
   "metadata": {},
   "outputs": [],
   "source": [
    "def print_info(record):\n",
    "    for dog in range(6):\n",
    "        odds = 1 / record[1+3*dog]\n",
    "        dist = 1000 * record[2+3*dog]\n",
    "        fini = 6 - (5 * record[3+3*dog])\n",
    "        \n",
    "        print(f\"Dog {dog+1}: Odds {round(odds)}, Distance {round(dist)}, Finish {round(fini)}\")\n",
    "    print(f\"Predicted winner: {record[19]+1:.0f}\")\n",
    "    if record.shape[0] > 21:\n",
    "        print(f\"Actual winner: {record[20]+1:.0f}\")"
   ]
  },
  {
   "cell_type": "code",
   "execution_count": 161,
   "id": "fa6f292f-0068-4877-a508-e582816eee79",
   "metadata": {},
   "outputs": [
    {
     "name": "stdout",
     "output_type": "stream",
     "text": [
      "Dog 1: Odds 7, Distance 471, Finish 2\n",
      "Dog 2: Odds 5, Distance 380, Finish 4\n",
      "Dog 3: Odds 3, Distance 481, Finish 4\n",
      "Dog 4: Odds 4, Distance 380, Finish 2\n",
      "Dog 5: Odds 6, Distance 380, Finish 2\n",
      "Dog 6: Odds 5, Distance 426, Finish 6\n",
      "Predicted winner: 3\n",
      "Actual winner: 1\n"
     ]
    }
   ],
   "source": [
    "print_info(predictions[1, :])"
   ]
  },
  {
   "cell_type": "code",
   "execution_count": 166,
   "id": "6516f6ef-99da-422d-b130-7a16662d4b30",
   "metadata": {},
   "outputs": [
    {
     "name": "stdout",
     "output_type": "stream",
     "text": [
      "Dog 1: Odds 6, Distance 449, Finish 3\n",
      "Dog 2: Odds 4, Distance 380, Finish 3\n",
      "Dog 3: Odds 5, Distance 380, Finish 3\n",
      "Dog 4: Odds 5, Distance 380, Finish 2\n",
      "Dog 5: Odds 3, Distance 380, Finish 2\n",
      "Dog 6: Odds 5, Distance 380, Finish 3\n",
      "Predicted winner: 5\n",
      "Actual winner: 1\n"
     ]
    }
   ],
   "source": [
    "print_info(predictions[np.random.choice(range(predictions.shape[0]), size=(1)), :][0, :])"
   ]
  },
  {
   "cell_type": "code",
   "execution_count": 176,
   "id": "6ed7fe47-5bb5-42a4-98c3-a49c0c2c0387",
   "metadata": {},
   "outputs": [],
   "source": [
    "diff = predictions[:, 19] == predictions[:, 20]"
   ]
  },
  {
   "cell_type": "code",
   "execution_count": 188,
   "id": "db1cadde-e75d-4122-bee4-1ca78810a870",
   "metadata": {},
   "outputs": [
    {
     "data": {
      "text/plain": [
       "<Axes: ylabel='Frequency'>"
      ]
     },
     "execution_count": 188,
     "metadata": {},
     "output_type": "execute_result"
    },
    {
     "data": {
      "image/png": "[encoded data removed]",
      "text/plain": [
       "<Figure size 640x480 with 1 Axes>"
      ]
     },
     "metadata": {},
     "output_type": "display_data"
    }
   ],
   "source": [
    "pd.Series(diff.astype(int)).plot.hist()"
   ]
  },
  {
   "cell_type": "code",
   "execution_count": 190,
   "id": "520c8e69-5e16-4ec6-a175-84c78c1fbabd",
   "metadata": {},
   "outputs": [
    {
     "data": {
      "text/plain": [
       "7.5"
      ]
     },
     "execution_count": 190,
     "metadata": {},
     "output_type": "execute_result"
    }
   ],
   "source": [
    "len(diff[diff == 1]) / len(diff) * 100"
   ]
  },
  {
   "cell_type": "code",
   "execution_count": null,
   "id": "dd6c6f92-9d94-41b1-88e2-209cc46f4d20",
   "metadata": {},
   "outputs": [],
   "source": []
  }
 ],
 "metadata": {
  "kernelspec": {
   "display_name": "Python 3 (ipykernel)",
   "language": "python",
   "name": "python3"
  },
  "language_info": {
   "codemirror_mode": {
    "name": "ipython",
    "version": 3
   },
   "file_extension": ".py",
   "mimetype": "text/x-python",
   "name": "python",
   "nbconvert_exporter": "python",
   "pygments_lexer": "ipython3",
   "version": "3.11.1"
  }
 },
 "nbformat": 4,
 "nbformat_minor": 5
}
