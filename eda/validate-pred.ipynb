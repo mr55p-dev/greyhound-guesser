{
 "cells": [
  {
   "cell_type": "code",
   "execution_count": 196,
   "id": "a4920dd9-d88c-4b40-8104-88a48bff170f",
   "metadata": {},
   "outputs": [
    {
     "ename": "ImportError",
     "evalue": "cannot import name 'BATCH_SIZE' from 'src.dataset' (/Users/ellis/Git/greyhound-guesser/src/dataset.py)",
     "output_type": "error",
     "traceback": [
      "\u001b[0;31m---------------------------------------------------------------------------\u001b[0m",
      "\u001b[0;31mImportError\u001b[0m                               Traceback (most recent call last)",
      "Cell \u001b[0;32mIn[196], line 12\u001b[0m\n\u001b[1;32m     10\u001b[0m \u001b[38;5;28;01mfrom\u001b[39;00m \u001b[38;5;21;01msrc\u001b[39;00m\u001b[38;5;21;01m.\u001b[39;00m\u001b[38;5;21;01mmodel\u001b[39;00m \u001b[38;5;28;01mimport\u001b[39;00m Network\n\u001b[1;32m     11\u001b[0m \u001b[38;5;28;01mfrom\u001b[39;00m \u001b[38;5;21;01msrc\u001b[39;00m\u001b[38;5;21;01m.\u001b[39;00m\u001b[38;5;21;01mutils\u001b[39;00m \u001b[38;5;28;01mimport\u001b[39;00m get_device\n\u001b[0;32m---> 12\u001b[0m \u001b[38;5;28;01mfrom\u001b[39;00m \u001b[38;5;21;01msrc\u001b[39;00m\u001b[38;5;21;01m.\u001b[39;00m\u001b[38;5;21;01mdataset\u001b[39;00m \u001b[38;5;28;01mimport\u001b[39;00m GreyhoundDataset, BATCH_SIZE\n\u001b[1;32m     13\u001b[0m \u001b[38;5;28;01mimport\u001b[39;00m \u001b[38;5;21;01mmath\u001b[39;00m\n",
      "\u001b[0;31mImportError\u001b[0m: cannot import name 'BATCH_SIZE' from 'src.dataset' (/Users/ellis/Git/greyhound-guesser/src/dataset.py)"
     ]
    }
   ],
   "source": [
    "from pathlib import Path\n",
    "import torch\n",
    "import numpy as np\n",
    "import pandas as pd\n",
    "import sys\n",
    "import os\n",
    "module_path = os.path.abspath(os.path.join('..'))\n",
    "if module_path not in sys.path:\n",
    "    sys.path.append(module_path)\n",
    "from src.model import Network\n",
    "from src.utils import get_device\n",
    "from src.dataset import GreyhoundDataset\n",
    "import math"
   ]
  },
  {
   "cell_type": "code",
   "execution_count": 197,
   "id": "411a92bb-dd9b-4cd9-9970-1d07acc57aec",
   "metadata": {},
   "outputs": [],
   "source": [
    "N = 1000\n",
    "batch_size = 64"
   ]
  },
  {
   "cell_type": "code",
   "execution_count": 71,
   "id": "a4bf9367-711d-4bba-98e4-5e5ddbbe1fc0",
   "metadata": {},
   "outputs": [],
   "source": [
    "def gen_test_data():\n",
    "    odds_vals = [1, 2, 4, 8]\n",
    "    dist_vals = [380, 560, 720]\n",
    "    out = np.zeros((N, 19))\n",
    "    out[:, 0] = 380 / 1000\n",
    "    for i in range(6):\n",
    "        ni = 3 * i\n",
    "        out[:, 1 + ni] = 1 / np.random.choice(odds_vals, size=(N))\n",
    "        out[:, 2 + ni] = np.random.choice(dist_vals, size=(N)) / 1000\n",
    "        out[:, 3 + ni] = np.random.normal(loc=0.5, scale=0.25, size=(N)).clip(0, 1)\n",
    "    return out"
   ]
  },
  {
   "cell_type": "code",
   "execution_count": 198,
   "id": "dca1f72c-119a-4a33-a568-047b1d8ba617",
   "metadata": {},
   "outputs": [],
   "source": [
    "def load_test_data():\n",
    "    os.chdir(\"..\")\n",
    "    dataset = GreyhoundDataset(device=get_device())\n",
    "    os.chdir(\"eda\")\n",
    "    return dataset"
   ]
  },
  {
   "cell_type": "code",
   "execution_count": 199,
   "id": "41784d28-4250-4854-8f2d-a22815e4f7df",
   "metadata": {},
   "outputs": [],
   "source": [
    "data, labels = load_test_data()[:N]\n",
    "data = data.cpu().numpy()\n",
    "labels = labels.cpu().numpy()"
   ]
  },
  {
   "cell_type": "code",
   "execution_count": 200,
   "id": "8a1e86a4-862e-46bb-9088-efbe21b1bc6f",
   "metadata": {},
   "outputs": [],
   "source": [
    "data = gen_test_data()"
   ]
  },
  {
   "cell_type": "code",
   "execution_count": 201,
   "id": "2e981f91-a40a-4825-8204-32473f79317f",
   "metadata": {},
   "outputs": [],
   "source": [
    "device = get_device()\n",
    "model_weights = \"../models/gg-2023-11-10_10-20.pt\""
   ]
  },
  {
   "cell_type": "code",
   "execution_count": 202,
   "id": "0a03480a-6cb1-4d3d-b9d0-620d4ddd51a4",
   "metadata": {},
   "outputs": [
    {
     "data": {
      "text/plain": [
       "Network(\n",
       "  (_layers): Sequential(\n",
       "    (0): Linear(in_features=19, out_features=256, bias=True)\n",
       "    (1): ReLU()\n",
       "    (2): Linear(in_features=256, out_features=128, bias=True)\n",
       "    (3): ReLU()\n",
       "    (4): Linear(in_features=128, out_features=32, bias=True)\n",
       "    (5): ReLU()\n",
       "    (6): Linear(in_features=32, out_features=6, bias=True)\n",
       "    (7): Softmax(dim=1)\n",
       "  )\n",
       ")"
      ]
     },
     "execution_count": 202,
     "metadata": {},
     "output_type": "execute_result"
    }
   ],
   "source": [
    "model = Network()\n",
    "model.load_state_dict(torch.load(model_weights, map_location=device))\n",
    "model.to(device)"
   ]
  },
  {
   "cell_type": "code",
   "execution_count": 203,
   "id": "c10a34b1-b395-4c4b-a369-7e596cafd785",
   "metadata": {},
   "outputs": [],
   "source": [
    "predictions = np.zeros((N, 6))\n",
    "predictions_norm = np.zeros(N, dtype=np.int64)"
   ]
  },
  {
   "cell_type": "code",
   "execution_count": 204,
   "id": "eae4bca5-f816-4442-8852-80ac0bdaf214",
   "metadata": {},
   "outputs": [],
   "source": [
    "for batch in range(N // batch_size):\n",
    "    offset = batch * batch_size\n",
    "    batch_data = torch.tensor(data[offset : offset + batch_size, :], device=device, dtype=torch.float32)\n",
    "    predictions[offset : offset + batch_size, :] = model.forward(batch_data).detach().cpu().numpy()"
   ]
  },
  {
   "cell_type": "code",
   "execution_count": 205,
   "id": "25dacfc6-aece-4ddd-a31a-91e8938c6244",
   "metadata": {},
   "outputs": [],
   "source": [
    "traps = np.argmax(predictions, 1, predictions_norm)"
   ]
  },
  {
   "cell_type": "code",
   "execution_count": 206,
   "id": "65eb802a-4108-4ad5-8394-1f874211e808",
   "metadata": {},
   "outputs": [],
   "source": [
    "to_concat = [data, traps.reshape(-1, 1)]\n",
    "if \"labels\" in locals():\n",
    "    to_concat.append(labels)\n",
    "predictions = np.concatenate(to_concat, axis=1)"
   ]
  },
  {
   "cell_type": "code",
   "execution_count": 207,
   "id": "0af02cb3-4c13-41dc-9d44-0ecb2c733cc3",
   "metadata": {},
   "outputs": [
    {
     "data": {
      "text/plain": [
       "array([[0.38      , 0.25      , 0.56      , 0.71341863, 1.        ,\n",
       "        0.72      , 0.36659163, 0.25      , 0.38      , 0.37478083,\n",
       "        1.        , 0.38      , 0.80008265, 0.5       , 0.38      ,\n",
       "        0.53287442, 1.        , 0.56      , 0.41059958, 3.        ,\n",
       "        0.        , 1.        , 0.        , 0.        , 0.        ,\n",
       "        0.        ],\n",
       "       [0.38      , 0.125     , 0.38      , 0.25346546, 0.25      ,\n",
       "        0.56      , 0.16739967, 0.25      , 0.38      , 0.79249975,\n",
       "        1.        , 0.38      , 0.26575095, 0.125     , 0.72      ,\n",
       "        0.36404045, 0.25      , 0.38      , 0.28550313, 3.        ,\n",
       "        0.        , 0.        , 1.        , 0.        , 0.        ,\n",
       "        0.        ],\n",
       "       [0.38      , 0.5       , 0.38      , 0.21785586, 0.25      ,\n",
       "        0.38      , 0.61363467, 1.        , 0.38      , 0.76413091,\n",
       "        0.5       , 0.56      , 0.67932637, 1.        , 0.72      ,\n",
       "        0.40379059, 0.5       , 0.38      , 0.3695611 , 4.        ,\n",
       "        0.        , 0.        , 0.        , 1.        , 0.        ,\n",
       "        0.        ],\n",
       "       [0.38      , 0.25      , 0.72      , 0.26738064, 1.        ,\n",
       "        0.72      , 0.756677  , 0.25      , 0.56      , 0.83982771,\n",
       "        0.25      , 0.56      , 0.89025696, 1.        , 0.72      ,\n",
       "        0.49088079, 0.25      , 0.56      , 0.35834625, 4.        ,\n",
       "        0.        , 0.        , 0.        , 0.        , 0.        ,\n",
       "        1.        ],\n",
       "       [0.38      , 0.5       , 0.72      , 0.32103676, 0.125     ,\n",
       "        0.38      , 0.73473867, 0.5       , 0.56      , 0.46835456,\n",
       "        0.25      , 0.38      , 0.37399197, 0.125     , 0.72      ,\n",
       "        0.43656588, 1.        , 0.72      , 0.39041484, 0.        ,\n",
       "        0.        , 0.        , 0.        , 1.        , 0.        ,\n",
       "        0.        ]])"
      ]
     },
     "execution_count": 207,
     "metadata": {},
     "output_type": "execute_result"
    }
   ],
   "source": [
    "predictions[np.random.choice(range(predictions.shape[0]), size=(5)), :]"
   ]
  },
  {
   "cell_type": "code",
   "execution_count": 208,
   "id": "f6b6a551-8394-4da4-af0c-a1f55b1b71d5",
   "metadata": {},
   "outputs": [],
   "source": [
    "def print_info(record):\n",
    "    for dog in range(6):\n",
    "        odds = 1 / record[1+3*dog]\n",
    "        dist = 1000 * record[2+3*dog]\n",
    "        fini = 6 - (5 * record[3+3*dog])\n",
    "        \n",
    "        print(f\"Dog {dog+1}: Odds {round(odds)}, Distance {round(dist)}, Finish {round(fini)}\")\n",
    "    print(f\"Predicted winner: {record[19]+1:.0f}\")\n",
    "    if record.shape[0] > 21:\n",
    "        print(f\"Actual winner: {record[20]+1:.0f}\")"
   ]
  },
  {
   "cell_type": "code",
   "execution_count": 209,
   "id": "fa6f292f-0068-4877-a508-e582816eee79",
   "metadata": {},
   "outputs": [
    {
     "name": "stdout",
     "output_type": "stream",
     "text": [
      "Dog 1: Odds 4, Distance 380, Finish 5\n",
      "Dog 2: Odds 2, Distance 380, Finish 3\n",
      "Dog 3: Odds 2, Distance 560, Finish 6\n",
      "Dog 4: Odds 2, Distance 720, Finish 5\n",
      "Dog 5: Odds 2, Distance 720, Finish 2\n",
      "Dog 6: Odds 4, Distance 720, Finish 3\n",
      "Predicted winner: 1\n",
      "Actual winner: 1\n"
     ]
    }
   ],
   "source": [
    "print_info(predictions[1, :])"
   ]
  },
  {
   "cell_type": "code",
   "execution_count": 232,
   "id": "6516f6ef-99da-422d-b130-7a16662d4b30",
   "metadata": {},
   "outputs": [
    {
     "name": "stdout",
     "output_type": "stream",
     "text": [
      "Dog 1: Odds 1, Distance 720, Finish 6\n",
      "Dog 2: Odds 4, Distance 380, Finish 4\n",
      "Dog 3: Odds 8, Distance 380, Finish 2\n",
      "Dog 4: Odds 2, Distance 720, Finish 4\n",
      "Dog 5: Odds 1, Distance 560, Finish 3\n",
      "Dog 6: Odds 2, Distance 380, Finish 1\n",
      "Predicted winner: 1\n",
      "Actual winner: 1\n"
     ]
    }
   ],
   "source": [
    "print_info(predictions[np.random.choice(range(predictions.shape[0]), size=(1)), :][0, :])"
   ]
  },
  {
   "cell_type": "code",
   "execution_count": 176,
   "id": "6ed7fe47-5bb5-42a4-98c3-a49c0c2c0387",
   "metadata": {},
   "outputs": [],
   "source": [
    "diff = predictions[:, 19] == predictions[:, 20]"
   ]
  },
  {
   "cell_type": "code",
   "execution_count": 235,
   "id": "1714154e-5be2-4e09-9552-a4093830c425",
   "metadata": {},
   "outputs": [
    {
     "data": {
      "text/plain": [
       "<Axes: ylabel='Frequency'>"
      ]
     },
     "execution_count": 235,
     "metadata": {},
     "output_type": "execute_result"
    },
    {
     "data": {
      "image/png": "[encoded data removed]",
      "text/plain": [
       "<Figure size 640x480 with 1 Axes>"
      ]
     },
     "metadata": {},
     "output_type": "display_data"
    }
   ],
   "source": [
    "pd.Series(predictions[:, 19]).plot.hist()"
   ]
  },
  {
   "cell_type": "code",
   "execution_count": 188,
   "id": "db1cadde-e75d-4122-bee4-1ca78810a870",
   "metadata": {},
   "outputs": [
    {
     "data": {
      "text/plain": [
       "<Axes: ylabel='Frequency'>"
      ]
     },
     "execution_count": 188,
     "metadata": {},
     "output_type": "execute_result"
    },
    {
     "data": {
      "image/png": "[encoded data removed]",
      "text/plain": [
       "<Figure size 640x480 with 1 Axes>"
      ]
     },
     "metadata": {},
     "output_type": "display_data"
    }
   ],
   "source": [
    "pd.Series(diff.astype(int)).plot.hist()"
   ]
  },
  {
   "cell_type": "code",
   "execution_count": 190,
   "id": "520c8e69-5e16-4ec6-a175-84c78c1fbabd",
   "metadata": {},
   "outputs": [
    {
     "data": {
      "text/plain": [
       "7.5"
      ]
     },
     "execution_count": 190,
     "metadata": {},
     "output_type": "execute_result"
    }
   ],
   "source": [
    "len(diff[diff == 1]) / len(diff) * 100"
   ]
  },
  {
   "cell_type": "code",
   "execution_count": null,
   "id": "dd6c6f92-9d94-41b1-88e2-209cc46f4d20",
   "metadata": {},
   "outputs": [],
   "source": []
  }
 ],
 "metadata": {
  "kernelspec": {
   "display_name": "Python 3 (ipykernel)",
   "language": "python",
   "name": "python3"
  },
  "language_info": {
   "codemirror_mode": {
    "name": "ipython",
    "version": 3
   },
   "file_extension": ".py",
   "mimetype": "text/x-python",
   "name": "python",
   "nbconvert_exporter": "python",
   "pygments_lexer": "ipython3",
   "version": "3.11.1"
  }
 },
 "nbformat": 4,
 "nbformat_minor": 5
}
