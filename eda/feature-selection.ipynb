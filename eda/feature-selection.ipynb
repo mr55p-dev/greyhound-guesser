{
 "cells": [
  {
   "cell_type": "code",
   "execution_count": 4,
   "id": "36427901-7b4f-41ef-a6f4-c23ba87c660f",
   "metadata": {},
   "outputs": [],
   "source": [
    "import pandas as pd\n",
    "import numpy as np"
   ]
  },
  {
   "cell_type": "code",
   "execution_count": 5,
   "id": "305ad148-05f3-4196-bcc6-cdd1feb563b1",
   "metadata": {},
   "outputs": [
    {
     "data": {
      "text/html": [
       "<div>\n",
       "<style scoped>\n",
       "    .dataframe tbody tr th:only-of-type {\n",
       "        vertical-align: middle;\n",
       "    }\n",
       "\n",
       "    .dataframe tbody tr th {\n",
       "        vertical-align: top;\n",
       "    }\n",
       "\n",
       "    .dataframe thead th {\n",
       "        text-align: right;\n",
       "    }\n",
       "</style>\n",
       "<table border=\"1\" class=\"dataframe\">\n",
       "  <thead>\n",
       "    <tr style=\"text-align: right;\">\n",
       "      <th></th>\n",
       "      <th>Race_ID</th>\n",
       "      <th>Trap</th>\n",
       "      <th>Odds</th>\n",
       "      <th>BSP</th>\n",
       "      <th>Public_Estimate</th>\n",
       "      <th>Last_Run</th>\n",
       "      <th>Distance_All</th>\n",
       "      <th>Finish_All</th>\n",
       "      <th>Distance_Places_All</th>\n",
       "      <th>Races_All</th>\n",
       "      <th>...</th>\n",
       "      <th>Grade_380</th>\n",
       "      <th>Time_380</th>\n",
       "      <th>Early_Time_380</th>\n",
       "      <th>Stay_380</th>\n",
       "      <th>Favourite</th>\n",
       "      <th>Finished</th>\n",
       "      <th>Wide_380</th>\n",
       "      <th>Dist_By</th>\n",
       "      <th>Winner</th>\n",
       "      <th>Race_distance</th>\n",
       "    </tr>\n",
       "  </thead>\n",
       "  <tbody>\n",
       "    <tr>\n",
       "      <th>0</th>\n",
       "      <td>0</td>\n",
       "      <td>6</td>\n",
       "      <td>2.75</td>\n",
       "      <td>4.00</td>\n",
       "      <td>1</td>\n",
       "      <td>12</td>\n",
       "      <td>456.47</td>\n",
       "      <td>4.09</td>\n",
       "      <td>402.86</td>\n",
       "      <td>17</td>\n",
       "      <td>...</td>\n",
       "      <td>4.00</td>\n",
       "      <td>17.84</td>\n",
       "      <td>3.63</td>\n",
       "      <td>0.500000</td>\n",
       "      <td>6.0</td>\n",
       "      <td>4</td>\n",
       "      <td>0.000000</td>\n",
       "      <td>-10.50000</td>\n",
       "      <td>0</td>\n",
       "      <td>380</td>\n",
       "    </tr>\n",
       "    <tr>\n",
       "      <th>1</th>\n",
       "      <td>0</td>\n",
       "      <td>3</td>\n",
       "      <td>5.00</td>\n",
       "      <td>7.60</td>\n",
       "      <td>4</td>\n",
       "      <td>5</td>\n",
       "      <td>410.48</td>\n",
       "      <td>3.53</td>\n",
       "      <td>414.00</td>\n",
       "      <td>21</td>\n",
       "      <td>...</td>\n",
       "      <td>3.29</td>\n",
       "      <td>24.18</td>\n",
       "      <td>3.70</td>\n",
       "      <td>0.280000</td>\n",
       "      <td>6.0</td>\n",
       "      <td>1</td>\n",
       "      <td>0.140000</td>\n",
       "      <td>-4.71000</td>\n",
       "      <td>1</td>\n",
       "      <td>380</td>\n",
       "    </tr>\n",
       "    <tr>\n",
       "      <th>2</th>\n",
       "      <td>0</td>\n",
       "      <td>5</td>\n",
       "      <td>5.00</td>\n",
       "      <td>9.40</td>\n",
       "      <td>6</td>\n",
       "      <td>9</td>\n",
       "      <td>386.45</td>\n",
       "      <td>3.39</td>\n",
       "      <td>380.00</td>\n",
       "      <td>31</td>\n",
       "      <td>...</td>\n",
       "      <td>3.71</td>\n",
       "      <td>24.06</td>\n",
       "      <td>3.67</td>\n",
       "      <td>-0.430000</td>\n",
       "      <td>6.0</td>\n",
       "      <td>3</td>\n",
       "      <td>0.000000</td>\n",
       "      <td>-2.86000</td>\n",
       "      <td>0</td>\n",
       "      <td>380</td>\n",
       "    </tr>\n",
       "    <tr>\n",
       "      <th>3</th>\n",
       "      <td>0</td>\n",
       "      <td>4</td>\n",
       "      <td>7.00</td>\n",
       "      <td>7.80</td>\n",
       "      <td>5</td>\n",
       "      <td>9</td>\n",
       "      <td>380.00</td>\n",
       "      <td>3.03</td>\n",
       "      <td>380.00</td>\n",
       "      <td>21</td>\n",
       "      <td>...</td>\n",
       "      <td>4.43</td>\n",
       "      <td>24.14</td>\n",
       "      <td>3.65</td>\n",
       "      <td>0.280000</td>\n",
       "      <td>6.0</td>\n",
       "      <td>2</td>\n",
       "      <td>0.000000</td>\n",
       "      <td>-2.71000</td>\n",
       "      <td>0</td>\n",
       "      <td>380</td>\n",
       "    </tr>\n",
       "    <tr>\n",
       "      <th>4</th>\n",
       "      <td>0</td>\n",
       "      <td>2</td>\n",
       "      <td>5.00</td>\n",
       "      <td>5.10</td>\n",
       "      <td>2</td>\n",
       "      <td>13</td>\n",
       "      <td>385.00</td>\n",
       "      <td>2.59</td>\n",
       "      <td>388.33</td>\n",
       "      <td>40</td>\n",
       "      <td>...</td>\n",
       "      <td>2.71</td>\n",
       "      <td>24.05</td>\n",
       "      <td>3.64</td>\n",
       "      <td>-0.430000</td>\n",
       "      <td>6.0</td>\n",
       "      <td>6</td>\n",
       "      <td>0.000000</td>\n",
       "      <td>-2.32000</td>\n",
       "      <td>0</td>\n",
       "      <td>380</td>\n",
       "    </tr>\n",
       "    <tr>\n",
       "      <th>...</th>\n",
       "      <td>...</td>\n",
       "      <td>...</td>\n",
       "      <td>...</td>\n",
       "      <td>...</td>\n",
       "      <td>...</td>\n",
       "      <td>...</td>\n",
       "      <td>...</td>\n",
       "      <td>...</td>\n",
       "      <td>...</td>\n",
       "      <td>...</td>\n",
       "      <td>...</td>\n",
       "      <td>...</td>\n",
       "      <td>...</td>\n",
       "      <td>...</td>\n",
       "      <td>...</td>\n",
       "      <td>...</td>\n",
       "      <td>...</td>\n",
       "      <td>...</td>\n",
       "      <td>...</td>\n",
       "      <td>...</td>\n",
       "      <td>...</td>\n",
       "    </tr>\n",
       "    <tr>\n",
       "      <th>12001</th>\n",
       "      <td>2000</td>\n",
       "      <td>4</td>\n",
       "      <td>3.50</td>\n",
       "      <td>4.67</td>\n",
       "      <td>3</td>\n",
       "      <td>4</td>\n",
       "      <td>408.19</td>\n",
       "      <td>3.25</td>\n",
       "      <td>383.91</td>\n",
       "      <td>52</td>\n",
       "      <td>...</td>\n",
       "      <td>5.71</td>\n",
       "      <td>24.13</td>\n",
       "      <td>3.75</td>\n",
       "      <td>-2.000000</td>\n",
       "      <td>1.0</td>\n",
       "      <td>4</td>\n",
       "      <td>0.000000</td>\n",
       "      <td>-3.50000</td>\n",
       "      <td>0</td>\n",
       "      <td>380</td>\n",
       "    </tr>\n",
       "    <tr>\n",
       "      <th>12002</th>\n",
       "      <td>2000</td>\n",
       "      <td>2</td>\n",
       "      <td>7.00</td>\n",
       "      <td>9.36</td>\n",
       "      <td>6</td>\n",
       "      <td>8</td>\n",
       "      <td>418.62</td>\n",
       "      <td>3.82</td>\n",
       "      <td>412.00</td>\n",
       "      <td>58</td>\n",
       "      <td>...</td>\n",
       "      <td>4.86</td>\n",
       "      <td>20.81</td>\n",
       "      <td>3.73</td>\n",
       "      <td>-0.290000</td>\n",
       "      <td>1.0</td>\n",
       "      <td>3</td>\n",
       "      <td>0.000000</td>\n",
       "      <td>-12.43000</td>\n",
       "      <td>0</td>\n",
       "      <td>380</td>\n",
       "    </tr>\n",
       "    <tr>\n",
       "      <th>12003</th>\n",
       "      <td>2000</td>\n",
       "      <td>5</td>\n",
       "      <td>5.00</td>\n",
       "      <td>4.35</td>\n",
       "      <td>2</td>\n",
       "      <td>7</td>\n",
       "      <td>400.00</td>\n",
       "      <td>4.05</td>\n",
       "      <td>410.00</td>\n",
       "      <td>9</td>\n",
       "      <td>...</td>\n",
       "      <td>6.00</td>\n",
       "      <td>24.36</td>\n",
       "      <td>3.74</td>\n",
       "      <td>-0.750000</td>\n",
       "      <td>1.0</td>\n",
       "      <td>6</td>\n",
       "      <td>0.000000</td>\n",
       "      <td>-4.75000</td>\n",
       "      <td>0</td>\n",
       "      <td>380</td>\n",
       "    </tr>\n",
       "    <tr>\n",
       "      <th>12004</th>\n",
       "      <td>2000</td>\n",
       "      <td>1</td>\n",
       "      <td>4.00</td>\n",
       "      <td>3.86</td>\n",
       "      <td>1</td>\n",
       "      <td>3</td>\n",
       "      <td>436.36</td>\n",
       "      <td>4.82</td>\n",
       "      <td>442.00</td>\n",
       "      <td>22</td>\n",
       "      <td>...</td>\n",
       "      <td>5.71</td>\n",
       "      <td>24.13</td>\n",
       "      <td>3.74</td>\n",
       "      <td>-0.056749</td>\n",
       "      <td>1.0</td>\n",
       "      <td>2</td>\n",
       "      <td>0.068085</td>\n",
       "      <td>-4.48688</td>\n",
       "      <td>0</td>\n",
       "      <td>380</td>\n",
       "    </tr>\n",
       "    <tr>\n",
       "      <th>12005</th>\n",
       "      <td>2000</td>\n",
       "      <td>3</td>\n",
       "      <td>5.00</td>\n",
       "      <td>8.31</td>\n",
       "      <td>5</td>\n",
       "      <td>4</td>\n",
       "      <td>418.18</td>\n",
       "      <td>5.66</td>\n",
       "      <td>422.50</td>\n",
       "      <td>22</td>\n",
       "      <td>...</td>\n",
       "      <td>5.00</td>\n",
       "      <td>16.35</td>\n",
       "      <td>3.77</td>\n",
       "      <td>0.160000</td>\n",
       "      <td>1.0</td>\n",
       "      <td>5</td>\n",
       "      <td>0.170000</td>\n",
       "      <td>-21.00000</td>\n",
       "      <td>0</td>\n",
       "      <td>380</td>\n",
       "    </tr>\n",
       "  </tbody>\n",
       "</table>\n",
       "<p>12006 rows × 29 columns</p>\n",
       "</div>"
      ],
      "text/plain": [
       "       Race_ID  Trap  Odds   BSP  Public_Estimate  Last_Run  Distance_All  \\\n",
       "0            0     6  2.75  4.00                1        12        456.47   \n",
       "1            0     3  5.00  7.60                4         5        410.48   \n",
       "2            0     5  5.00  9.40                6         9        386.45   \n",
       "3            0     4  7.00  7.80                5         9        380.00   \n",
       "4            0     2  5.00  5.10                2        13        385.00   \n",
       "...        ...   ...   ...   ...              ...       ...           ...   \n",
       "12001     2000     4  3.50  4.67                3         4        408.19   \n",
       "12002     2000     2  7.00  9.36                6         8        418.62   \n",
       "12003     2000     5  5.00  4.35                2         7        400.00   \n",
       "12004     2000     1  4.00  3.86                1         3        436.36   \n",
       "12005     2000     3  5.00  8.31                5         4        418.18   \n",
       "\n",
       "       Finish_All  Distance_Places_All  Races_All  ...  Grade_380  Time_380  \\\n",
       "0            4.09               402.86         17  ...       4.00     17.84   \n",
       "1            3.53               414.00         21  ...       3.29     24.18   \n",
       "2            3.39               380.00         31  ...       3.71     24.06   \n",
       "3            3.03               380.00         21  ...       4.43     24.14   \n",
       "4            2.59               388.33         40  ...       2.71     24.05   \n",
       "...           ...                  ...        ...  ...        ...       ...   \n",
       "12001        3.25               383.91         52  ...       5.71     24.13   \n",
       "12002        3.82               412.00         58  ...       4.86     20.81   \n",
       "12003        4.05               410.00          9  ...       6.00     24.36   \n",
       "12004        4.82               442.00         22  ...       5.71     24.13   \n",
       "12005        5.66               422.50         22  ...       5.00     16.35   \n",
       "\n",
       "       Early_Time_380  Stay_380  Favourite  Finished  Wide_380   Dist_By  \\\n",
       "0                3.63  0.500000        6.0         4  0.000000 -10.50000   \n",
       "1                3.70  0.280000        6.0         1  0.140000  -4.71000   \n",
       "2                3.67 -0.430000        6.0         3  0.000000  -2.86000   \n",
       "3                3.65  0.280000        6.0         2  0.000000  -2.71000   \n",
       "4                3.64 -0.430000        6.0         6  0.000000  -2.32000   \n",
       "...               ...       ...        ...       ...       ...       ...   \n",
       "12001            3.75 -2.000000        1.0         4  0.000000  -3.50000   \n",
       "12002            3.73 -0.290000        1.0         3  0.000000 -12.43000   \n",
       "12003            3.74 -0.750000        1.0         6  0.000000  -4.75000   \n",
       "12004            3.74 -0.056749        1.0         2  0.068085  -4.48688   \n",
       "12005            3.77  0.160000        1.0         5  0.170000 -21.00000   \n",
       "\n",
       "       Winner  Race_distance  \n",
       "0           0            380  \n",
       "1           1            380  \n",
       "2           0            380  \n",
       "3           0            380  \n",
       "4           0            380  \n",
       "...       ...            ...  \n",
       "12001       0            380  \n",
       "12002       0            380  \n",
       "12003       0            380  \n",
       "12004       0            380  \n",
       "12005       0            380  \n",
       "\n",
       "[12006 rows x 29 columns]"
      ]
     },
     "execution_count": 5,
     "metadata": {},
     "output_type": "execute_result"
    }
   ],
   "source": [
    "x = pd.read_csv(\"../data/crayford-races.csv\")\n",
    "x[\"Race_distance\"] = 380\n",
    "x"
   ]
  },
  {
   "cell_type": "code",
   "execution_count": 6,
   "id": "fe6cd080-c783-4b72-9ef2-2f41b9685560",
   "metadata": {},
   "outputs": [
    {
     "data": {
      "text/html": [
       "<div>\n",
       "<style scoped>\n",
       "    .dataframe tbody tr th:only-of-type {\n",
       "        vertical-align: middle;\n",
       "    }\n",
       "\n",
       "    .dataframe tbody tr th {\n",
       "        vertical-align: top;\n",
       "    }\n",
       "\n",
       "    .dataframe thead th {\n",
       "        text-align: right;\n",
       "    }\n",
       "</style>\n",
       "<table border=\"1\" class=\"dataframe\">\n",
       "  <thead>\n",
       "    <tr style=\"text-align: right;\">\n",
       "      <th></th>\n",
       "      <th>Race_ID</th>\n",
       "      <th>Trap</th>\n",
       "      <th>Odds</th>\n",
       "      <th>BSP</th>\n",
       "      <th>Public_Estimate</th>\n",
       "      <th>Last_Run</th>\n",
       "      <th>Distance_All</th>\n",
       "      <th>Finish_All</th>\n",
       "      <th>Distance_Places_All</th>\n",
       "      <th>Races_All</th>\n",
       "      <th>...</th>\n",
       "      <th>Grade_380</th>\n",
       "      <th>Time_380</th>\n",
       "      <th>Early_Time_380</th>\n",
       "      <th>Stay_380</th>\n",
       "      <th>Favourite</th>\n",
       "      <th>Finished</th>\n",
       "      <th>Wide_380</th>\n",
       "      <th>Dist_By</th>\n",
       "      <th>Winner</th>\n",
       "      <th>Race_distance</th>\n",
       "    </tr>\n",
       "  </thead>\n",
       "  <tbody>\n",
       "    <tr>\n",
       "      <th>count</th>\n",
       "      <td>12006.00000</td>\n",
       "      <td>12006.000000</td>\n",
       "      <td>12006.000000</td>\n",
       "      <td>12006.000000</td>\n",
       "      <td>12006.000000</td>\n",
       "      <td>12006.000000</td>\n",
       "      <td>12006.000000</td>\n",
       "      <td>12006.000000</td>\n",
       "      <td>12006.000000</td>\n",
       "      <td>12006.000000</td>\n",
       "      <td>...</td>\n",
       "      <td>12006.000000</td>\n",
       "      <td>12006.000000</td>\n",
       "      <td>12006.000000</td>\n",
       "      <td>12006.000000</td>\n",
       "      <td>12006.000000</td>\n",
       "      <td>12006.000000</td>\n",
       "      <td>12006.000000</td>\n",
       "      <td>12006.000000</td>\n",
       "      <td>12006.000000</td>\n",
       "      <td>12006.0</td>\n",
       "    </tr>\n",
       "    <tr>\n",
       "      <th>mean</th>\n",
       "      <td>1000.00000</td>\n",
       "      <td>3.500000</td>\n",
       "      <td>5.371940</td>\n",
       "      <td>7.600623</td>\n",
       "      <td>3.501916</td>\n",
       "      <td>7.149592</td>\n",
       "      <td>400.232647</td>\n",
       "      <td>3.666011</td>\n",
       "      <td>399.435106</td>\n",
       "      <td>62.054223</td>\n",
       "      <td>...</td>\n",
       "      <td>5.703423</td>\n",
       "      <td>24.042455</td>\n",
       "      <td>3.703312</td>\n",
       "      <td>-0.058871</td>\n",
       "      <td>3.442533</td>\n",
       "      <td>3.499500</td>\n",
       "      <td>0.068360</td>\n",
       "      <td>-4.473741</td>\n",
       "      <td>0.166667</td>\n",
       "      <td>380.0</td>\n",
       "    </tr>\n",
       "    <tr>\n",
       "      <th>std</th>\n",
       "      <td>577.66293</td>\n",
       "      <td>1.707896</td>\n",
       "      <td>2.208432</td>\n",
       "      <td>4.255454</td>\n",
       "      <td>1.706236</td>\n",
       "      <td>3.346557</td>\n",
       "      <td>28.816968</td>\n",
       "      <td>0.527866</td>\n",
       "      <td>28.957759</td>\n",
       "      <td>56.200429</td>\n",
       "      <td>...</td>\n",
       "      <td>1.797255</td>\n",
       "      <td>1.290984</td>\n",
       "      <td>0.061315</td>\n",
       "      <td>1.089164</td>\n",
       "      <td>1.744878</td>\n",
       "      <td>1.708042</td>\n",
       "      <td>0.152352</td>\n",
       "      <td>3.036172</td>\n",
       "      <td>0.372694</td>\n",
       "      <td>0.0</td>\n",
       "    </tr>\n",
       "    <tr>\n",
       "      <th>min</th>\n",
       "      <td>0.00000</td>\n",
       "      <td>1.000000</td>\n",
       "      <td>1.670000</td>\n",
       "      <td>1.830000</td>\n",
       "      <td>1.000000</td>\n",
       "      <td>2.000000</td>\n",
       "      <td>306.670000</td>\n",
       "      <td>1.830000</td>\n",
       "      <td>307.570000</td>\n",
       "      <td>2.000000</td>\n",
       "      <td>...</td>\n",
       "      <td>1.000000</td>\n",
       "      <td>0.000000</td>\n",
       "      <td>3.500000</td>\n",
       "      <td>-5.000000</td>\n",
       "      <td>1.000000</td>\n",
       "      <td>1.000000</td>\n",
       "      <td>0.000000</td>\n",
       "      <td>-50.000000</td>\n",
       "      <td>0.000000</td>\n",
       "      <td>380.0</td>\n",
       "    </tr>\n",
       "    <tr>\n",
       "      <th>25%</th>\n",
       "      <td>500.00000</td>\n",
       "      <td>2.000000</td>\n",
       "      <td>4.000000</td>\n",
       "      <td>4.610000</td>\n",
       "      <td>2.000000</td>\n",
       "      <td>5.000000</td>\n",
       "      <td>380.000000</td>\n",
       "      <td>3.320000</td>\n",
       "      <td>380.000000</td>\n",
       "      <td>23.000000</td>\n",
       "      <td>...</td>\n",
       "      <td>4.500000</td>\n",
       "      <td>24.120000</td>\n",
       "      <td>3.660000</td>\n",
       "      <td>-0.800000</td>\n",
       "      <td>2.000000</td>\n",
       "      <td>2.000000</td>\n",
       "      <td>0.000000</td>\n",
       "      <td>-5.430000</td>\n",
       "      <td>0.000000</td>\n",
       "      <td>380.0</td>\n",
       "    </tr>\n",
       "    <tr>\n",
       "      <th>50%</th>\n",
       "      <td>1000.00000</td>\n",
       "      <td>3.500000</td>\n",
       "      <td>5.000000</td>\n",
       "      <td>6.400000</td>\n",
       "      <td>4.000000</td>\n",
       "      <td>7.000000</td>\n",
       "      <td>389.520000</td>\n",
       "      <td>3.610000</td>\n",
       "      <td>388.000000</td>\n",
       "      <td>44.000000</td>\n",
       "      <td>...</td>\n",
       "      <td>6.000000</td>\n",
       "      <td>24.310000</td>\n",
       "      <td>3.700000</td>\n",
       "      <td>0.000000</td>\n",
       "      <td>3.000000</td>\n",
       "      <td>3.000000</td>\n",
       "      <td>0.000000</td>\n",
       "      <td>-4.000000</td>\n",
       "      <td>0.000000</td>\n",
       "      <td>380.0</td>\n",
       "    </tr>\n",
       "    <tr>\n",
       "      <th>75%</th>\n",
       "      <td>1500.00000</td>\n",
       "      <td>5.000000</td>\n",
       "      <td>6.000000</td>\n",
       "      <td>9.290000</td>\n",
       "      <td>5.000000</td>\n",
       "      <td>8.000000</td>\n",
       "      <td>413.995000</td>\n",
       "      <td>3.920000</td>\n",
       "      <td>412.967500</td>\n",
       "      <td>84.000000</td>\n",
       "      <td>...</td>\n",
       "      <td>7.290000</td>\n",
       "      <td>24.510000</td>\n",
       "      <td>3.740000</td>\n",
       "      <td>0.710000</td>\n",
       "      <td>5.000000</td>\n",
       "      <td>5.000000</td>\n",
       "      <td>0.068085</td>\n",
       "      <td>-2.750000</td>\n",
       "      <td>0.000000</td>\n",
       "      <td>380.0</td>\n",
       "    </tr>\n",
       "    <tr>\n",
       "      <th>max</th>\n",
       "      <td>2000.00000</td>\n",
       "      <td>6.000000</td>\n",
       "      <td>21.000000</td>\n",
       "      <td>44.000000</td>\n",
       "      <td>6.000000</td>\n",
       "      <td>28.000000</td>\n",
       "      <td>573.160000</td>\n",
       "      <td>7.270000</td>\n",
       "      <td>579.550000</td>\n",
       "      <td>462.000000</td>\n",
       "      <td>...</td>\n",
       "      <td>8.000000</td>\n",
       "      <td>25.660000</td>\n",
       "      <td>4.210000</td>\n",
       "      <td>5.000000</td>\n",
       "      <td>6.000000</td>\n",
       "      <td>6.000000</td>\n",
       "      <td>1.000000</td>\n",
       "      <td>11.000000</td>\n",
       "      <td>1.000000</td>\n",
       "      <td>380.0</td>\n",
       "    </tr>\n",
       "  </tbody>\n",
       "</table>\n",
       "<p>8 rows × 29 columns</p>\n",
       "</div>"
      ],
      "text/plain": [
       "           Race_ID          Trap          Odds           BSP  Public_Estimate  \\\n",
       "count  12006.00000  12006.000000  12006.000000  12006.000000     12006.000000   \n",
       "mean    1000.00000      3.500000      5.371940      7.600623         3.501916   \n",
       "std      577.66293      1.707896      2.208432      4.255454         1.706236   \n",
       "min        0.00000      1.000000      1.670000      1.830000         1.000000   \n",
       "25%      500.00000      2.000000      4.000000      4.610000         2.000000   \n",
       "50%     1000.00000      3.500000      5.000000      6.400000         4.000000   \n",
       "75%     1500.00000      5.000000      6.000000      9.290000         5.000000   \n",
       "max     2000.00000      6.000000     21.000000     44.000000         6.000000   \n",
       "\n",
       "           Last_Run  Distance_All    Finish_All  Distance_Places_All  \\\n",
       "count  12006.000000  12006.000000  12006.000000         12006.000000   \n",
       "mean       7.149592    400.232647      3.666011           399.435106   \n",
       "std        3.346557     28.816968      0.527866            28.957759   \n",
       "min        2.000000    306.670000      1.830000           307.570000   \n",
       "25%        5.000000    380.000000      3.320000           380.000000   \n",
       "50%        7.000000    389.520000      3.610000           388.000000   \n",
       "75%        8.000000    413.995000      3.920000           412.967500   \n",
       "max       28.000000    573.160000      7.270000           579.550000   \n",
       "\n",
       "          Races_All  ...     Grade_380      Time_380  Early_Time_380  \\\n",
       "count  12006.000000  ...  12006.000000  12006.000000    12006.000000   \n",
       "mean      62.054223  ...      5.703423     24.042455        3.703312   \n",
       "std       56.200429  ...      1.797255      1.290984        0.061315   \n",
       "min        2.000000  ...      1.000000      0.000000        3.500000   \n",
       "25%       23.000000  ...      4.500000     24.120000        3.660000   \n",
       "50%       44.000000  ...      6.000000     24.310000        3.700000   \n",
       "75%       84.000000  ...      7.290000     24.510000        3.740000   \n",
       "max      462.000000  ...      8.000000     25.660000        4.210000   \n",
       "\n",
       "           Stay_380     Favourite      Finished      Wide_380       Dist_By  \\\n",
       "count  12006.000000  12006.000000  12006.000000  12006.000000  12006.000000   \n",
       "mean      -0.058871      3.442533      3.499500      0.068360     -4.473741   \n",
       "std        1.089164      1.744878      1.708042      0.152352      3.036172   \n",
       "min       -5.000000      1.000000      1.000000      0.000000    -50.000000   \n",
       "25%       -0.800000      2.000000      2.000000      0.000000     -5.430000   \n",
       "50%        0.000000      3.000000      3.000000      0.000000     -4.000000   \n",
       "75%        0.710000      5.000000      5.000000      0.068085     -2.750000   \n",
       "max        5.000000      6.000000      6.000000      1.000000     11.000000   \n",
       "\n",
       "             Winner  Race_distance  \n",
       "count  12006.000000        12006.0  \n",
       "mean       0.166667          380.0  \n",
       "std        0.372694            0.0  \n",
       "min        0.000000          380.0  \n",
       "25%        0.000000          380.0  \n",
       "50%        0.000000          380.0  \n",
       "75%        0.000000          380.0  \n",
       "max        1.000000          380.0  \n",
       "\n",
       "[8 rows x 29 columns]"
      ]
     },
     "execution_count": 6,
     "metadata": {},
     "output_type": "execute_result"
    }
   ],
   "source": [
    "x.describe()"
   ]
  },
  {
   "cell_type": "code",
   "execution_count": 7,
   "id": "39d8e4e3-04f5-4b7c-a87f-3eeb3d70b50e",
   "metadata": {},
   "outputs": [
    {
     "data": {
      "text/plain": [
       "2001"
      ]
     },
     "execution_count": 7,
     "metadata": {},
     "output_type": "execute_result"
    }
   ],
   "source": [
    "x[\"Race_ID\"].nunique()"
   ]
  },
  {
   "cell_type": "code",
   "execution_count": 8,
   "id": "8813e3aa-4363-4b92-9ad3-974d71a49a04",
   "metadata": {},
   "outputs": [
    {
     "data": {
      "text/plain": [
       "Index(['Race_ID', 'Trap', 'Odds', 'BSP', 'Public_Estimate', 'Last_Run',\n",
       "       'Distance_All', 'Finish_All', 'Distance_Places_All', 'Races_All',\n",
       "       'Distance_Recent', 'Finish_Recent', 'Odds_Recent', 'Early_Recent',\n",
       "       'Races_380', 'Wins_380', 'Finish_380', 'Odds_380', 'Early_380',\n",
       "       'Grade_380', 'Time_380', 'Early_Time_380', 'Stay_380', 'Favourite',\n",
       "       'Finished', 'Wide_380', 'Dist_By', 'Winner', 'Race_distance'],\n",
       "      dtype='object')"
      ]
     },
     "execution_count": 8,
     "metadata": {},
     "output_type": "execute_result"
    }
   ],
   "source": [
    "x.columns"
   ]
  },
  {
   "cell_type": "code",
   "execution_count": 9,
   "id": "7532bb80-4e10-49a1-b3a1-a5a117c5359f",
   "metadata": {},
   "outputs": [
    {
     "name": "stdout",
     "output_type": "stream",
     "text": [
      "   Odds  Distance_Recent  Finish_Recent\n",
      "0   7.0           471.43           2.29\n",
      "1   5.0           380.00           3.71\n",
      "2   3.5           481.43           3.57\n",
      "3   4.0           380.00           2.15\n",
      "4   6.0           380.00           2.29\n",
      "5   5.0           425.71           5.51\n"
     ]
    },
    {
     "data": {
      "text/html": [
       "<div>\n",
       "<style scoped>\n",
       "    .dataframe tbody tr th:only-of-type {\n",
       "        vertical-align: middle;\n",
       "    }\n",
       "\n",
       "    .dataframe tbody tr th {\n",
       "        vertical-align: top;\n",
       "    }\n",
       "\n",
       "    .dataframe thead th {\n",
       "        text-align: right;\n",
       "    }\n",
       "</style>\n",
       "<table border=\"1\" class=\"dataframe\">\n",
       "  <thead>\n",
       "    <tr style=\"text-align: right;\">\n",
       "      <th></th>\n",
       "      <th>Odds</th>\n",
       "      <th>Distance_Recent</th>\n",
       "      <th>Finish_Recent</th>\n",
       "    </tr>\n",
       "  </thead>\n",
       "  <tbody>\n",
       "    <tr>\n",
       "      <th>0</th>\n",
       "      <td>0.142857</td>\n",
       "      <td>0.47143</td>\n",
       "      <td>0.742</td>\n",
       "    </tr>\n",
       "    <tr>\n",
       "      <th>1</th>\n",
       "      <td>0.200000</td>\n",
       "      <td>0.38000</td>\n",
       "      <td>0.458</td>\n",
       "    </tr>\n",
       "    <tr>\n",
       "      <th>2</th>\n",
       "      <td>0.285714</td>\n",
       "      <td>0.48143</td>\n",
       "      <td>0.486</td>\n",
       "    </tr>\n",
       "    <tr>\n",
       "      <th>3</th>\n",
       "      <td>0.250000</td>\n",
       "      <td>0.38000</td>\n",
       "      <td>0.770</td>\n",
       "    </tr>\n",
       "    <tr>\n",
       "      <th>4</th>\n",
       "      <td>0.166667</td>\n",
       "      <td>0.38000</td>\n",
       "      <td>0.742</td>\n",
       "    </tr>\n",
       "    <tr>\n",
       "      <th>5</th>\n",
       "      <td>0.200000</td>\n",
       "      <td>0.42571</td>\n",
       "      <td>0.098</td>\n",
       "    </tr>\n",
       "  </tbody>\n",
       "</table>\n",
       "</div>"
      ],
      "text/plain": [
       "       Odds  Distance_Recent  Finish_Recent\n",
       "0  0.142857          0.47143          0.742\n",
       "1  0.200000          0.38000          0.458\n",
       "2  0.285714          0.48143          0.486\n",
       "3  0.250000          0.38000          0.770\n",
       "4  0.166667          0.38000          0.742\n",
       "5  0.200000          0.42571          0.098"
      ]
     },
     "execution_count": 9,
     "metadata": {},
     "output_type": "execute_result"
    }
   ],
   "source": [
    "ex_race = x[x[\"Race_ID\"] == 1]\n",
    "ex_race = ex_race.sort_values(\"Trap\")\n",
    "ex_race = ex_race[[\"Odds\", \"Distance_Recent\", \"Finish_Recent\"]].reset_index(drop=True)\n",
    "print(ex_race)\n",
    "ex_race[\"Odds\"] = 1 / ex_race[\"Odds\"]\n",
    "ex_race[\"Distance_Recent\"] = ex_race[\"Distance_Recent\"] / 1000\n",
    "ex_race[\"Finish_Recent\"] = (6 - ex_race[\"Finish_Recent\"]) / 5\n",
    "ex_race"
   ]
  },
  {
   "cell_type": "code",
   "execution_count": 10,
   "id": "4e1bf141-70fc-43a9-87ed-ca0e5b89617b",
   "metadata": {},
   "outputs": [
    {
     "ename": "NameError",
     "evalue": "name 'feature' is not defined",
     "output_type": "error",
     "traceback": [
      "\u001b[0;31m---------------------------------------------------------------------------\u001b[0m",
      "\u001b[0;31mNameError\u001b[0m                                 Traceback (most recent call last)",
      "Cell \u001b[0;32mIn[10], line 1\u001b[0m\n\u001b[0;32m----> 1\u001b[0m \u001b[43mfeature\u001b[49m\n",
      "\u001b[0;31mNameError\u001b[0m: name 'feature' is not defined"
     ]
    }
   ],
   "source": [
    "\n",
    "\n",
    "feature"
   ]
  },
  {
   "cell_type": "code",
   "execution_count": 11,
   "id": "3c7c32df-41a9-4222-b76f-0da0a62452aa",
   "metadata": {},
   "outputs": [],
   "source": [
    "data = x.copy()\n",
    "data[\"Odds\"] = 1 / data[\"Odds\"]\n",
    "data[\"Distance_Recent\"] = data[\"Distance_Recent\"] / 1000\n",
    "data[\"Finish_Recent\"] = (6 - data[\"Finish_Recent\"]) / 5"
   ]
  },
  {
   "cell_type": "code",
   "execution_count": 12,
   "id": "ce1cf777-e4c9-4741-a0ed-b995c03dbce3",
   "metadata": {},
   "outputs": [],
   "source": [
    "races = data[\"Race_ID\"].unique()\n",
    "features = np.empty((19, 1, len(races)))\n",
    "labels = np.empty((6, 1, len(races)))\n",
    "\n",
    "features[0, 0, :] = 380/1000\n",
    "for idx, race in enumerate(races):\n",
    "    dogs = data[data[\"Race_ID\"] == race].sort_values(\"Trap\")\n",
    "    dogs = dogs[[\"Odds\", \"Distance_Recent\", \"Finish_Recent\", \"Finished\"]].reset_index(drop=True)\n",
    "    dogs_features = dogs.drop(\"Finished\", axis=1).values.reshape(18, 1)\n",
    "    dogs_labels = dogs[\"Finished\"].values.reshape(6, 1)\n",
    "    features[1:, 0, idx] = dogs_features[:, 0]\n",
    "    labels[:, 0, idx] = dogs_labels[:, 0]\n"
   ]
  },
  {
   "cell_type": "code",
   "execution_count": 13,
   "id": "c9cf315d-5966-4771-9ae6-573a15e38b3a",
   "metadata": {},
   "outputs": [
    {
     "data": {
      "text/plain": [
       "array([[[0.38      , 0.38      , 0.38      , ..., 0.38      ,\n",
       "         0.38      , 0.38      ]],\n",
       "\n",
       "       [[0.16666667, 0.14285714, 0.2       , ..., 0.18181818,\n",
       "         0.25      , 0.25      ]],\n",
       "\n",
       "       [[0.38      , 0.47143   , 0.38      , ..., 0.41714   ,\n",
       "         0.42571   , 0.45714   ]],\n",
       "\n",
       "       ...,\n",
       "\n",
       "       [[0.36363636, 0.2       , 0.28571429, ..., 0.33333333,\n",
       "         0.11111111, 0.2       ]],\n",
       "\n",
       "       [[0.49429   , 0.42571   , 0.38      , ..., 0.38      ,\n",
       "         0.38      , 0.38      ]],\n",
       "\n",
       "       [[0.524     , 0.098     , 0.714     , ..., 0.486     ,\n",
       "         0.458     , 0.542     ]]])"
      ]
     },
     "execution_count": 13,
     "metadata": {},
     "output_type": "execute_result"
    }
   ],
   "source": [
    "features"
   ]
  },
  {
   "cell_type": "code",
   "execution_count": 14,
   "id": "1d8549cc-04fb-4250-99f7-a9b30df29791",
   "metadata": {},
   "outputs": [
    {
     "data": {
      "text/plain": [
       "array([[[5., 6., 6., ..., 4., 2., 2.]],\n",
       "\n",
       "       [[6., 3., 5., ..., 3., 1., 3.]],\n",
       "\n",
       "       [[1., 1., 4., ..., 5., 6., 5.]],\n",
       "\n",
       "       [[2., 2., 1., ..., 6., 5., 4.]],\n",
       "\n",
       "       [[3., 5., 2., ..., 1., 4., 6.]],\n",
       "\n",
       "       [[4., 4., 3., ..., 2., 3., 1.]]])"
      ]
     },
     "execution_count": 14,
     "metadata": {},
     "output_type": "execute_result"
    }
   ],
   "source": [
    "labels"
   ]
  },
  {
   "cell_type": "code",
   "execution_count": 15,
   "id": "567f43c0-db80-4f92-9abc-45aaeafe600b",
   "metadata": {},
   "outputs": [
    {
     "data": {
      "text/plain": [
       "(6, 1, 2001)"
      ]
     },
     "execution_count": 15,
     "metadata": {},
     "output_type": "execute_result"
    }
   ],
   "source": [
    "labels.shape"
   ]
  },
  {
   "cell_type": "code",
   "execution_count": 16,
   "id": "f469e3b9-4418-4e62-8ed9-7c9aa603c164",
   "metadata": {},
   "outputs": [
    {
     "data": {
      "text/plain": [
       "(19, 1, 2001)"
      ]
     },
     "execution_count": 16,
     "metadata": {},
     "output_type": "execute_result"
    }
   ],
   "source": [
    "features.shape"
   ]
  },
  {
   "cell_type": "code",
   "execution_count": 17,
   "id": "0b8c2157-8e28-4924-9e9e-9f5f3737b195",
   "metadata": {},
   "outputs": [],
   "source": [
    "ar = np.argmin(labels, 0, keepdims=True)"
   ]
  },
  {
   "cell_type": "code",
   "execution_count": 18,
   "id": "1c3e4830-8992-40c2-81a8-5ed36cdb5143",
   "metadata": {},
   "outputs": [],
   "source": [
    "labels_2 = np.zeros(labels.shape)\n",
    "np.put_along_axis(labels_2, ar, 1, 0)"
   ]
  },
  {
   "cell_type": "code",
   "execution_count": 19,
   "id": "03393aeb-6255-451c-8463-7545232f393d",
   "metadata": {},
   "outputs": [
    {
     "data": {
      "text/plain": [
       "array([[[0., 0., 0., ..., 0., 0., 0.]],\n",
       "\n",
       "       [[0., 0., 0., ..., 0., 1., 0.]],\n",
       "\n",
       "       [[1., 1., 0., ..., 0., 0., 0.]],\n",
       "\n",
       "       [[0., 0., 1., ..., 0., 0., 0.]],\n",
       "\n",
       "       [[0., 0., 0., ..., 1., 0., 0.]],\n",
       "\n",
       "       [[0., 0., 0., ..., 0., 0., 1.]]])"
      ]
     },
     "execution_count": 19,
     "metadata": {},
     "output_type": "execute_result"
    }
   ],
   "source": [
    "labels_2"
   ]
  },
  {
   "cell_type": "code",
   "execution_count": 20,
   "id": "2f181b1a-afd0-407d-9961-71f0d7aa4ed6",
   "metadata": {},
   "outputs": [
    {
     "data": {
      "text/plain": [
       "array([1., 2., 3., ..., 2., 3., 1.])"
      ]
     },
     "execution_count": 20,
     "metadata": {},
     "output_type": "execute_result"
    }
   ],
   "source": [
    "labels[labels <= 3]"
   ]
  },
  {
   "cell_type": "code",
   "execution_count": 21,
   "id": "e0ca2ac8-f62c-4d91-89b4-11ea9a691158",
   "metadata": {},
   "outputs": [],
   "source": [
    "# Other stuff"
   ]
  },
  {
   "cell_type": "code",
   "execution_count": 38,
   "id": "b333facb-f9a9-41f8-a531-70984bf18408",
   "metadata": {},
   "outputs": [
    {
     "data": {
      "text/plain": [
       "<Axes: xlabel='Winner'>"
      ]
     },
     "execution_count": 38,
     "metadata": {},
     "output_type": "execute_result"
    },
    {
     "data": {
      "image/png": "[encoded data removed]",
      "text/plain": [
       "<Figure size 640x480 with 1 Axes>"
      ]
     },
     "metadata": {},
     "output_type": "display_data"
    }
   ],
   "source": [
    "races_cols = [\"Race_ID\", \"Winner\"]\n",
    "races = []\n",
    "for race in x[\"Race_ID\"].unique():\n",
    "    race_dogs = x[x[\"Race_ID\"] == race][[\"Race_ID\", \"Trap\", \"Finished\"]].sort_values(\"Trap\")\n",
    "    winner_trap = race_dogs[\"Finished\"].argmin()\n",
    "    races.append([race, winner_trap])\n",
    "races = pd.DataFrame(races, columns=races_cols)\n",
    "races[\"Winner\"].value_counts().plot.bar()"
   ]
  },
  {
   "cell_type": "code",
   "execution_count": 107,
   "id": "2a3b3469-9a8c-4006-ac21-13bda52a9bf1",
   "metadata": {},
   "outputs": [
    {
     "data": {
      "text/plain": [
       "<Axes: ylabel='Frequency'>"
      ]
     },
     "execution_count": 107,
     "metadata": {},
     "output_type": "execute_result"
    },
    {
     "data": {
      "image/png": "[encoded data removed]",
      "text/plain": [
       "<Figure size 640x480 with 1 Axes>"
      ]
     },
     "metadata": {},
     "output_type": "display_data"
    }
   ],
   "source": [
    "x[\"Odds\"].plot.hist()"
   ]
  },
  {
   "cell_type": "code",
   "execution_count": 119,
   "id": "a1006d6b-e802-458e-b1ed-04b755d88fbd",
   "metadata": {},
   "outputs": [
    {
     "data": {
      "text/plain": [
       "<Axes: ylabel='Frequency'>"
      ]
     },
     "execution_count": 119,
     "metadata": {},
     "output_type": "execute_result"
    },
    {
     "data": {
      "image/png": "[encoded data removed]",
      "text/plain": [
       "<Figure size 640x480 with 1 Axes>"
      ]
     },
     "metadata": {},
     "output_type": "display_data"
    }
   ],
   "source": [
    "x[\"Finish_Recent\"].plot.hist()"
   ]
  },
  {
   "cell_type": "code",
   "execution_count": 124,
   "id": "589e145b-5abe-4249-804f-4621ca463db2",
   "metadata": {},
   "outputs": [
    {
     "data": {
      "text/plain": [
       "pandas.core.series.Series"
      ]
     },
     "execution_count": 124,
     "metadata": {},
     "output_type": "execute_result"
    }
   ],
   "source": [
    "(6 - x[\"Finish_Recent\"].clip(lower=1, upper=6) / 5\n"
   ]
  },
  {
   "cell_type": "code",
   "execution_count": 125,
   "id": "cb555be7-b320-4f94-beff-4843d17e3df7",
   "metadata": {},
   "outputs": [
    {
     "data": {
      "text/plain": [
       "<Axes: ylabel='Frequency'>"
      ]
     },
     "execution_count": 125,
     "metadata": {},
     "output_type": "execute_result"
    },
    {
     "data": {
      "image/png": "[encoded data removed]",
      "text/plain": [
       "<Figure size 640x480 with 1 Axes>"
      ]
     },
     "metadata": {},
     "output_type": "display_data"
    }
   ],
   "source": [
    "x[\"Distance_Recent\"].plot.hist()"
   ]
  },
  {
   "cell_type": "code",
   "execution_count": 133,
   "id": "41b99ea1-d9d6-4284-8578-c214c602dd12",
   "metadata": {},
   "outputs": [
    {
     "data": {
      "text/plain": [
       "<Axes: ylabel='Frequency'>"
      ]
     },
     "execution_count": 133,
     "metadata": {},
     "output_type": "execute_result"
    },
    {
     "data": {
      "image/png": "[encoded data removed]",
      "text/plain": [
       "<Figure size 640x480 with 1 Axes>"
      ]
     },
     "metadata": {},
     "output_type": "display_data"
    }
   ],
   "source": [
    "pd.Series(np.random.normal(loc=0.5, scale=0.25, size=(1000)).clip(0, 1)).plot.hist()"
   ]
  },
  {
   "cell_type": "code",
   "execution_count": null,
   "id": "dfd64601-fab9-4f07-a330-ff98fae256de",
   "metadata": {},
   "outputs": [],
   "source": []
  }
 ],
 "metadata": {
  "kernelspec": {
   "display_name": "Python 3 (ipykernel)",
   "language": "python",
   "name": "python3"
  },
  "language_info": {
   "codemirror_mode": {
    "name": "ipython",
    "version": 3
   },
   "file_extension": ".py",
   "mimetype": "text/x-python",
   "name": "python",
   "nbconvert_exporter": "python",
   "pygments_lexer": "ipython3",
   "version": "3.11.1"
  }
 },
 "nbformat": 4,
 "nbformat_minor": 5
}
