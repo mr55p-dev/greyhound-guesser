{
 "cells": [
  {
   "cell_type": "code",
   "execution_count": 3,
   "id": "5c6e67e1-5067-4aeb-879e-741d5ed7fd09",
   "metadata": {},
   "outputs": [],
   "source": [
    "import torch\n",
    "from torch.nn import Softmax\n",
    "import sys\n",
    "import os\n",
    "module_path = os.path.abspath(os.path.join('..'))\n",
    "if module_path not in sys.path:\n",
    "    sys.path.append(module_path)\n",
    "\n",
    "from src.dataset import GreyhoundDataset\n",
    "from torch.utils.data.dataloader import DataLoader\n"
   ]
  },
  {
   "cell_type": "code",
   "execution_count": null,
   "id": "0ca3791a-94cd-48d2-8c27-a18854844bad",
   "metadata": {},
   "outputs": [],
   "source": [
    "x = torch.tensor([[1, 2, 3], [4, 5, 6]], dtype=torch.float32)"
   ]
  },
  {
   "cell_type": "code",
   "execution_count": 3,
   "id": "e7db7d76-f12a-4c05-9162-e214d6f3396d",
   "metadata": {},
   "outputs": [
    {
     "data": {
      "text/plain": [
       "tensor([[1., 2., 3.],\n",
       "        [4., 5., 6.]])"
      ]
     },
     "execution_count": 3,
     "metadata": {},
     "output_type": "execute_result"
    }
   ],
   "source": [
    "x"
   ]
  },
  {
   "cell_type": "code",
   "execution_count": 4,
   "id": "aee789d4-d951-475f-8ba3-50da71e40607",
   "metadata": {},
   "outputs": [],
   "source": [
    "proc = Softmax(dim=1)"
   ]
  },
  {
   "cell_type": "code",
   "execution_count": 5,
   "id": "1ba28e59-1d01-492b-94b4-a516386f5b12",
   "metadata": {},
   "outputs": [
    {
     "data": {
      "text/plain": [
       "tensor([[0.0900, 0.2447, 0.6652],\n",
       "        [0.0900, 0.2447, 0.6652]])"
      ]
     },
     "execution_count": 5,
     "metadata": {},
     "output_type": "execute_result"
    }
   ],
   "source": [
    "proc.forward(x)"
   ]
  },
  {
   "cell_type": "code",
   "execution_count": 6,
   "id": "d5c02b9a-d7b5-46da-bb02-0f9139375cc4",
   "metadata": {},
   "outputs": [],
   "source": [
    "ds = GreyhoundDataset(torch.device(\"cpu\"))\n",
    "load = DataLoader(ds, 32)"
   ]
  },
  {
   "cell_type": "code",
   "execution_count": 7,
   "id": "71752c05-4570-4718-a9fa-fcf038b97f37",
   "metadata": {},
   "outputs": [],
   "source": [
    "batch = next(load.__iter__())[0]"
   ]
  },
  {
   "cell_type": "code",
   "execution_count": 8,
   "id": "e7c8b679-9577-42a5-a8cf-8799ad27d418",
   "metadata": {},
   "outputs": [
    {
     "data": {
      "text/plain": [
       "tensor([1.0000, 1.0000, 1.0000, 1.0000, 1.0000, 1.0000, 1.0000, 1.0000, 1.0000,\n",
       "        1.0000, 1.0000, 1.0000, 1.0000, 1.0000, 1.0000, 1.0000, 1.0000, 1.0000,\n",
       "        1.0000, 1.0000, 1.0000, 1.0000, 1.0000, 1.0000, 1.0000, 1.0000, 1.0000,\n",
       "        1.0000, 1.0000, 1.0000, 1.0000, 1.0000])"
      ]
     },
     "execution_count": 8,
     "metadata": {},
     "output_type": "execute_result"
    }
   ],
   "source": [
    "proc.forward(batch).sum(dim=1)"
   ]
  }
 ],
 "metadata": {
  "kernelspec": {
   "display_name": "Python 3 (ipykernel)",
   "language": "python",
   "name": "python3"
  },
  "language_info": {
   "codemirror_mode": {
    "name": "ipython",
    "version": 3
   },
   "file_extension": ".py",
   "mimetype": "text/x-python",
   "name": "python",
   "nbconvert_exporter": "python",
   "pygments_lexer": "ipython3",
   "version": "3.11.1"
  }
 },
 "nbformat": 4,
 "nbformat_minor": 5
}
