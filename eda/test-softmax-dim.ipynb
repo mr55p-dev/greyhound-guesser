{
 "cells": [
  {
   "cell_type": "code",
   "execution_count": 4,
   "id": "5c6e67e1-5067-4aeb-879e-741d5ed7fd09",
   "metadata": {},
   "outputs": [],
   "source": [
    "import torch\n",
    "from torch.nn import Softmax\n",
    "import sys\n",
    "import os\n",
    "module_path = os.path.abspath(os.path.join('..'))\n",
    "if module_path not in sys.path:\n",
    "    sys.path.append(module_path)\n",
    "\n",
    "from src.dataset import GreyhoundDataset\n",
    "from torch.utils.data.dataloader import DataLoader\n"
   ]
  },
  {
   "cell_type": "code",
   "execution_count": 5,
   "id": "0ca3791a-94cd-48d2-8c27-a18854844bad",
   "metadata": {},
   "outputs": [],
   "source": [
    "x = torch.tensor([[1, 2, 3], [4, 5, 6]], dtype=torch.float32)"
   ]
  },
  {
   "cell_type": "code",
   "execution_count": 6,
   "id": "e7db7d76-f12a-4c05-9162-e214d6f3396d",
   "metadata": {},
   "outputs": [
    {
     "data": {
      "text/plain": [
       "tensor([[1., 2., 3.],\n",
       "        [4., 5., 6.]])"
      ]
     },
     "execution_count": 6,
     "metadata": {},
     "output_type": "execute_result"
    }
   ],
   "source": [
    "x"
   ]
  },
  {
   "cell_type": "code",
   "execution_count": 7,
   "id": "aee789d4-d951-475f-8ba3-50da71e40607",
   "metadata": {},
   "outputs": [],
   "source": [
    "proc = Softmax(dim=1)"
   ]
  },
  {
   "cell_type": "code",
   "execution_count": 8,
   "id": "1ba28e59-1d01-492b-94b4-a516386f5b12",
   "metadata": {},
   "outputs": [
    {
     "data": {
      "text/plain": [
       "tensor([[0.0900, 0.2447, 0.6652],\n",
       "        [0.0900, 0.2447, 0.6652]])"
      ]
     },
     "execution_count": 8,
     "metadata": {},
     "output_type": "execute_result"
    }
   ],
   "source": [
    "proc.forward(x)"
   ]
  },
  {
   "cell_type": "code",
   "execution_count": 10,
   "id": "d5c02b9a-d7b5-46da-bb02-0f9139375cc4",
   "metadata": {},
   "outputs": [],
   "source": [
    "os.chdir(\"..\")\n",
    "ds = GreyhoundDataset(torch.device(\"cpu\"))\n",
    "load = DataLoader(ds, 32)\n",
    "os.chdir(\"eda\")"
   ]
  },
  {
   "cell_type": "code",
   "execution_count": 13,
   "id": "71752c05-4570-4718-a9fa-fcf038b97f37",
   "metadata": {},
   "outputs": [],
   "source": [
    "batch, lab = next(load.__iter__())"
   ]
  },
  {
   "cell_type": "code",
   "execution_count": 21,
   "id": "e7c8b679-9577-42a5-a8cf-8799ad27d418",
   "metadata": {},
   "outputs": [],
   "source": [
    "pred = proc.forward(batch)\n",
    "pred = pred[:, :6]"
   ]
  },
  {
   "cell_type": "code",
   "execution_count": 27,
   "id": "2dc41e36-e518-43e0-8780-5a33fe133348",
   "metadata": {},
   "outputs": [
    {
     "data": {
      "text/plain": [
       "torch.Size([32])"
      ]
     },
     "execution_count": 27,
     "metadata": {},
     "output_type": "execute_result"
    }
   ],
   "source": [
    "is_eq = torch.eq(\n",
    "    torch.argmax(pred, dim=1),\n",
    "    torch.argmin(lab, dim=1),\n",
    ")\n",
    "is_eq.shape"
   ]
  },
  {
   "cell_type": "code",
   "execution_count": 30,
   "id": "ddf9c7aa-e7ad-4fc6-a882-0c891447d750",
   "metadata": {},
   "outputs": [
    {
     "data": {
      "text/plain": [
       "tensor(4)"
      ]
     },
     "execution_count": 30,
     "metadata": {},
     "output_type": "execute_result"
    }
   ],
   "source": [
    "torch.count_nonzero(is_eq)"
   ]
  },
  {
   "cell_type": "code",
   "execution_count": null,
   "id": "3c628841-2776-4184-b258-87726990f334",
   "metadata": {},
   "outputs": [],
   "source": []
  }
 ],
 "metadata": {
  "kernelspec": {
   "display_name": "Python 3 (ipykernel)",
   "language": "python",
   "name": "python3"
  },
  "language_info": {
   "codemirror_mode": {
    "name": "ipython",
    "version": 3
   },
   "file_extension": ".py",
   "mimetype": "text/x-python",
   "name": "python",
   "nbconvert_exporter": "python",
   "pygments_lexer": "ipython3",
   "version": "3.11.1"
  }
 },
 "nbformat": 4,
 "nbformat_minor": 5
}
